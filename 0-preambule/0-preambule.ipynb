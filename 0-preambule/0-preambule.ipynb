{
 "cells": [
  {
   "cell_type": "markdown",
   "id": "15ad78a9",
   "metadata": {
    "slideshow": {
     "slide_type": "slide"
    }
   },
   "source": [
    "\n",
    "<div style='float:center; font-size:large'>\n",
    "    <strong>Digital U</strong><br>\n",
    "    Introduction à la programmation avec python.\n",
    "</div>"
   ]
  },
  {
   "cell_type": "markdown",
   "id": "6b0d6253",
   "metadata": {
    "slideshow": {
     "slide_type": "slide"
    }
   },
   "source": [
    "## Objectif du jours\n",
    "\n",
    "Découverte de l'informatique par la *programmation*\n",
    "+   Exercices et exemples tirés de plusieurs contextes\n",
    "+ On fabrique des trucs qui *marchent*"
   ]
  },
  {
   "cell_type": "markdown",
   "id": "5f19657c",
   "metadata": {
    "slideshow": {
     "slide_type": "subslide"
    }
   },
   "source": [
    "Initiation à l'*algorithmique*\n",
    "+   Problème algorithmique / solution algorithmique\n",
    "+   Structures de contrôle classiques\n",
    "+   Analyse d'algorithmes simples\n",
    "    \n",
    "(ne pas confondre algorithme et programme !)"
   ]
  },
  {
   "cell_type": "markdown",
   "id": "c6627287",
   "metadata": {
    "slideshow": {
     "slide_type": "slide"
    }
   },
   "source": [
    "## Motivation\n",
    "\n",
    "Pour ce cours :\n",
    "+   Très peu de pré-requis (tout le monde peut réussir)\n",
    "+   Servira quelles que soient vos études et votre métier\n",
    "+   Uniquement des notions essentielles"
   ]
  },
  {
   "cell_type": "markdown",
   "id": "d04399b7",
   "metadata": {
    "slideshow": {
     "slide_type": "subslide"
    }
   },
   "source": [
    "Pour l'informatique en général :\n",
    "+   Pas seulement pour les *geeks*\n",
    "+   Pas seulement pour les garçons\n",
    "+   Nombreuses qualités utiles\n",
    "+   Nombreux métiers possibles"
   ]
  },
  {
   "cell_type": "markdown",
   "id": "689f4bd6",
   "metadata": {
    "slideshow": {
     "slide_type": "slide"
    }
   },
   "source": [
    "## Quelques mots sur Python\n",
    "\n",
    "C'est un langage de programmation :\n",
    "\n",
    "-   Plutôt récent (première version en 1990)\n",
    "-   Libre (*free as in beer and as in speech*)\n",
    "-   Très utilisé (enseignement, entreprise, logiciel libre)\n",
    "-   Facile à apprendre (plus que le C et le Java  ...)\n",
    "-   Récemment adopté au lycée !\n",
    "-   Permet de faire des choses partique rapidement"
   ]
  },
  {
   "cell_type": "markdown",
   "id": "4fbc63fb",
   "metadata": {
    "slideshow": {
     "slide_type": "subslide"
    }
   },
   "source": [
    "Caractéristiques techniques du langage :\n",
    "\n",
    "-   Interprété (exécuté \"ligne par ligne\")\n",
    "-   Typé dynamiquement (pendant l'exécution)\n",
    "-   Concis et expressif (types prédéfinis)\n",
    "-   \"Multi-paradigmes\" (impératif, fonctionnel, objet...)"
   ]
  }
 ],
 "metadata": {
  "celltoolbar": "Diaporama",
  "kernelspec": {
   "display_name": "Python 3 (ipykernel)",
   "language": "python",
   "name": "python3"
  },
  "language_info": {
   "codemirror_mode": {
    "name": "ipython",
    "version": 3
   },
   "file_extension": ".py",
   "mimetype": "text/x-python",
   "name": "python",
   "nbconvert_exporter": "python",
   "version": "3.10.12"
  }
 },
 "nbformat": 4,
 "nbformat_minor": 5
}
